{
 "cells": [
  {
   "cell_type": "markdown",
   "metadata": {},
   "source": [
    "# Business List Quick Formatting"
   ]
  },
  {
   "cell_type": "code",
   "execution_count": 1,
   "metadata": {},
   "outputs": [],
   "source": [
    "import os\n",
    "import pandas as pd\n",
    "import numpy as np\n",
    "import re"
   ]
  },
  {
   "cell_type": "markdown",
   "metadata": {},
   "source": [
    "### Read Files and Concatenate\n",
    "The directory should contain all of the files that will be used for the business list.   \n",
    "After putting the directory path in as the function's parameter, this will read all of the files and create a single dataframe to work with."
   ]
  },
  {
   "cell_type": "code",
   "execution_count": 60,
   "metadata": {},
   "outputs": [],
   "source": [
    "def open_files(path):\n",
    "    folder = path\n",
    "    df_list = []\n",
    "    for file in os.listdir(folder):\n",
    "        if file.endswith('.csv'):\n",
    "            file_path=os.path.join(folder,file)\n",
    "            df = pd.read_csv(file_path)\n",
    "            df_list.append(df)\n",
    "    final = pd.concat(df_list, ignore_index=True)\n",
    "    return final"
   ]
  },
  {
   "cell_type": "code",
   "execution_count": 143,
   "metadata": {},
   "outputs": [],
   "source": [
    "#df = open_files('/Users/josephmac/Downloads/Project Noble/')\n",
    "df = open_files('C:/Data/Project Noble/')"
   ]
  },
  {
   "cell_type": "markdown",
   "metadata": {},
   "source": [
    "### Format Data to Fit Template"
   ]
  },
  {
   "cell_type": "code",
   "execution_count": 144,
   "metadata": {},
   "outputs": [
    {
     "name": "stderr",
     "output_type": "stream",
     "text": [
      "C:\\Users\\JosephWirthlin\\AppData\\Local\\Temp\\ipykernel_7696\\4093238476.py:11: SettingWithCopyWarning: \n",
      "A value is trying to be set on a copy of a slice from a DataFrame.\n",
      "Try using .loc[row_indexer,col_indexer] = value instead\n",
      "\n",
      "See the caveats in the documentation: https://pandas.pydata.org/pandas-docs/stable/user_guide/indexing.html#returning-a-view-versus-a-copy\n",
      "  test1[['street','rest']] = test1['Address'].str.split(cities['Place'][257], expand=True)\n",
      "C:\\Users\\JosephWirthlin\\AppData\\Local\\Temp\\ipykernel_7696\\4093238476.py:11: SettingWithCopyWarning: \n",
      "A value is trying to be set on a copy of a slice from a DataFrame.\n",
      "Try using .loc[row_indexer,col_indexer] = value instead\n",
      "\n",
      "See the caveats in the documentation: https://pandas.pydata.org/pandas-docs/stable/user_guide/indexing.html#returning-a-view-versus-a-copy\n",
      "  test1[['street','rest']] = test1['Address'].str.split(cities['Place'][257], expand=True)\n"
     ]
    },
    {
     "data": {
      "text/html": [
       "<div>\n",
       "<style scoped>\n",
       "    .dataframe tbody tr th:only-of-type {\n",
       "        vertical-align: middle;\n",
       "    }\n",
       "\n",
       "    .dataframe tbody tr th {\n",
       "        vertical-align: top;\n",
       "    }\n",
       "\n",
       "    .dataframe thead th {\n",
       "        text-align: right;\n",
       "    }\n",
       "</style>\n",
       "<table border=\"1\" class=\"dataframe\">\n",
       "  <thead>\n",
       "    <tr style=\"text-align: right;\">\n",
       "      <th></th>\n",
       "      <th>Company Name</th>\n",
       "      <th>Patriot Participation</th>\n",
       "      <th>Address</th>\n",
       "      <th>County</th>\n",
       "      <th>City</th>\n",
       "      <th>Phone</th>\n",
       "      <th>Employees</th>\n",
       "      <th>NAICS</th>\n",
       "      <th>street</th>\n",
       "      <th>rest</th>\n",
       "    </tr>\n",
       "  </thead>\n",
       "  <tbody>\n",
       "    <tr>\n",
       "      <th>1</th>\n",
       "      <td>Crown Chocolate</td>\n",
       "      <td>N</td>\n",
       "      <td>1239 Swaner Rd Salt Lake City Ut 841042597</td>\n",
       "      <td>Salt Lake</td>\n",
       "      <td>Salt Lake City</td>\n",
       "      <td>(801) 467-3050</td>\n",
       "      <td>10-19</td>\n",
       "      <td>311352</td>\n",
       "      <td>1239 Swaner Rd</td>\n",
       "      <td>City Ut 841042597</td>\n",
       "    </tr>\n",
       "    <tr>\n",
       "      <th>2</th>\n",
       "      <td>Hatch Family Chocolates</td>\n",
       "      <td>N</td>\n",
       "      <td>Unit A 376 8Th Ave Salt Lake City Ut 841032813</td>\n",
       "      <td>Salt Lake</td>\n",
       "      <td>Salt Lake City</td>\n",
       "      <td>(801) 532-4912</td>\n",
       "      <td>10-19</td>\n",
       "      <td>311352</td>\n",
       "      <td>Unit A 376 8Th Ave</td>\n",
       "      <td>City Ut 841032813</td>\n",
       "    </tr>\n",
       "  </tbody>\n",
       "</table>\n",
       "</div>"
      ],
      "text/plain": [
       "              Company Name Patriot Participation  \\\n",
       "1          Crown Chocolate                     N   \n",
       "2  Hatch Family Chocolates                     N   \n",
       "\n",
       "                                          Address     County            City  \\\n",
       "1      1239 Swaner Rd Salt Lake City Ut 841042597  Salt Lake  Salt Lake City   \n",
       "2  Unit A 376 8Th Ave Salt Lake City Ut 841032813  Salt Lake  Salt Lake City   \n",
       "\n",
       "            Phone Employees   NAICS               street                rest  \n",
       "1  (801) 467-3050     10-19  311352      1239 Swaner Rd    City Ut 841042597  \n",
       "2  (801) 532-4912     10-19  311352  Unit A 376 8Th Ave    City Ut 841032813  "
      ]
     },
     "execution_count": 144,
     "metadata": {},
     "output_type": "execute_result"
    }
   ],
   "source": [
    "#Adjust Capitalization\n",
    "df = df.apply(lambda col:col.str.title() if col.dtypes == 'object' else col)\n",
    "#Get Formatted Address\n",
    "cities = pd.read_csv('C:/Data/utah_cities.csv')\n",
    "cities['Place'] = cities['Place'].str.split(' City').str[0]\n",
    "cities['Place'] = cities['Place'].str.split(' Town').str[0]\n",
    "cities['Place'] = cities['Place'].str.split(' Cdp').str[0]\n",
    "cities_list = cities['Place'].to_list()\n",
    "\n",
    "test1 = df.loc[1:2]\n",
    "test1[['street','rest']] = test1['Address'].str.split(cities['Place'][257], expand=True)\n",
    "test1"
   ]
  },
  {
   "cell_type": "code",
   "execution_count": 141,
   "metadata": {},
   "outputs": [
    {
     "name": "stdout",
     "output_type": "stream",
     "text": [
      "         Place Total Population\n",
      "257  Salt Lake          203,888\n"
     ]
    }
   ],
   "source": [
    "print(cities[cities['Place']=='Salt Lake'])\n",
    "    "
   ]
  }
 ],
 "metadata": {
  "kernelspec": {
   "display_name": "Python 3",
   "language": "python",
   "name": "python3"
  },
  "language_info": {
   "codemirror_mode": {
    "name": "ipython",
    "version": 3
   },
   "file_extension": ".py",
   "mimetype": "text/x-python",
   "name": "python",
   "nbconvert_exporter": "python",
   "pygments_lexer": "ipython3",
   "version": "3.12.6"
  },
  "orig_nbformat": 4
 },
 "nbformat": 4,
 "nbformat_minor": 2
}
